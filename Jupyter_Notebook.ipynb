{
 "cells": [
  {
   "cell_type": "markdown",
   "metadata": {},
   "source": [
    "<center>\n",
    "    <img src=\"https://cf-courses-data.s3.us.cloud-object-storage.appdomain.cloud/IBMDeveloperSkillsNetwork-DS0105EN-SkillsNetwork/labs/Module2/images/SN_web_lightmode.png\" width=\"300\" alt=\"cognitiveclass.ai logo\"  />\n",
    "</center>\n"
   ]
  },
  {
   "cell_type": "markdown",
   "metadata": {},
   "source": [
    "#### Add your code below following the instructions given in the course\n"
   ]
  },
  {
   "cell_type": "markdown",
   "metadata": {},
   "source": [
    "# My Jupyter Notebook on IBM Watson Studio"
   ]
  },
  {
   "cell_type": "markdown",
   "metadata": {},
   "source": [
    "**Robert** <br>\n",
    "Business analyst"
   ]
  },
  {
   "cell_type": "markdown",
   "metadata": {},
   "source": [
    "*I'm enthusiastic about data science, especially considering how quickly technology is changing the profession. I enjoy being a part of new technologies and trying out innovative solutions, which I noticed your company also values. I'm especially interested in artificial intelligence after learning about machine learning in my studies, and I'm eager to use AI in a more practical capacity. I especially admire how your company uses predictive analytics to instinctively cater to customers' needs.*"
   ]
  },
  {
   "cell_type": "markdown",
   "metadata": {},
   "source": [
    "### My short code is calculating Body Mass Index (BMI). You have to put your weight and height and your are good to go :)"
   ]
  },
  {
   "cell_type": "code",
   "execution_count": 3,
   "metadata": {},
   "outputs": [
    {
     "name": "stdout",
     "output_type": "stream",
     "text": [
      "25.24933720489837\n"
     ]
    }
   ],
   "source": [
    "the_height = 178\n",
    "the_weight = 80\n",
    "the_BMI = the_weight / (the_height/100)**2  \n",
    "print(the_BMI)"
   ]
  },
  {
   "cell_type": "markdown",
   "metadata": {},
   "source": [
    "<b>This is</b>\n",
    "<hr>\n",
    "<i>HORIZONTAL LINE</i>\n",
    "\n",
    "<ol>\n",
    " <li>One</li>\n",
    " <li>Two</li>\n",
    " <li>Three</li>\n",
    "</ol>\n",
    "\n",
    "<ul>\n",
    " <li>Four</li>\n",
    " <li>Five</li>\n",
    " <li>Six</li>\n",
    " </ul>\n",
    " \n",
    " <blockquote>This is a blockquote</blockquote>\n",
    " <del>strikethrough</del>\n",
    " \n",
    "<table style=\"width:50%\">\n",
    "  <tr>\n",
    "    <td>This is</td>\n",
    "    <td>Html</td>\n",
    "    <td>Table</td>\n",
    "  </tr>\n",
    "  <tr>\n",
    "    <td>1</td>\n",
    "    <td>2</td>\n",
    "    <td>3</td>\n",
    "  </tr>\n",
    "</table>"
   ]
  }
 ],
 "metadata": {
  "kernelspec": {
   "display_name": "Python 3",
   "language": "python",
   "name": "python3"
  },
  "language_info": {
   "codemirror_mode": {
    "name": "ipython",
    "version": 3
   },
   "file_extension": ".py",
   "mimetype": "text/x-python",
   "name": "python",
   "nbconvert_exporter": "python",
   "pygments_lexer": "ipython3",
   "version": "3.7.3"
  }
 },
 "nbformat": 4,
 "nbformat_minor": 4
}
